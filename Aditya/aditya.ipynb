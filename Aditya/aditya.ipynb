{
 "cells": [
  {
   "cell_type": "code",
   "execution_count": 1,
   "id": "82405eb7-f614-4b92-9b58-d9015cff560f",
   "metadata": {},
   "outputs": [],
   "source": [
    "import pandas as pd\n",
    "import numpy as np\n",
    "import matplotlib.pyplot as plt\n",
    "import seaborn as sns\n",
    "from sklearn.model_selection import train_test_split\n",
    "from sklearn.metrics import accuracy_score, f1_score, recall_score, precision_score, confusion_matrix\n",
    "from lightgbm import LGBMClassifier\n",
    "from sklearn.tree import DecisionTreeClassifier"
   ]
  },
  {
   "cell_type": "code",
   "execution_count": 2,
   "id": "50c08492-5ffd-496c-a0be-9b1daa801f42",
   "metadata": {},
   "outputs": [
    {
     "name": "stderr",
     "output_type": "stream",
     "text": [
      "C:\\Users\\reddy\\AppData\\Local\\Temp\\ipykernel_21460\\1340737594.py:21: FutureWarning: A value is trying to be set on a copy of a DataFrame or Series through chained assignment using an inplace method.\n",
      "The behavior will change in pandas 3.0. This inplace method will never work because the intermediate object on which we are setting values always behaves as a copy.\n",
      "\n",
      "For example, when doing 'df[col].method(value, inplace=True)', try using 'df.method({col: value}, inplace=True)' or df[col] = df[col].method(value) instead, to perform the operation inplace on the original object.\n",
      "\n",
      "\n",
      "  df[col].fillna(df[col].mode()[0], inplace=True)\n",
      "C:\\Users\\reddy\\AppData\\Local\\Temp\\ipykernel_21460\\1340737594.py:21: FutureWarning: A value is trying to be set on a copy of a DataFrame or Series through chained assignment using an inplace method.\n",
      "The behavior will change in pandas 3.0. This inplace method will never work because the intermediate object on which we are setting values always behaves as a copy.\n",
      "\n",
      "For example, when doing 'df[col].method(value, inplace=True)', try using 'df.method({col: value}, inplace=True)' or df[col] = df[col].method(value) instead, to perform the operation inplace on the original object.\n",
      "\n",
      "\n",
      "  df[col].fillna(df[col].mode()[0], inplace=True)\n",
      "C:\\Users\\reddy\\AppData\\Local\\Temp\\ipykernel_21460\\1340737594.py:21: FutureWarning: A value is trying to be set on a copy of a DataFrame or Series through chained assignment using an inplace method.\n",
      "The behavior will change in pandas 3.0. This inplace method will never work because the intermediate object on which we are setting values always behaves as a copy.\n",
      "\n",
      "For example, when doing 'df[col].method(value, inplace=True)', try using 'df.method({col: value}, inplace=True)' or df[col] = df[col].method(value) instead, to perform the operation inplace on the original object.\n",
      "\n",
      "\n",
      "  df[col].fillna(df[col].mode()[0], inplace=True)\n",
      "C:\\Users\\reddy\\AppData\\Local\\Temp\\ipykernel_21460\\1340737594.py:21: FutureWarning: A value is trying to be set on a copy of a DataFrame or Series through chained assignment using an inplace method.\n",
      "The behavior will change in pandas 3.0. This inplace method will never work because the intermediate object on which we are setting values always behaves as a copy.\n",
      "\n",
      "For example, when doing 'df[col].method(value, inplace=True)', try using 'df.method({col: value}, inplace=True)' or df[col] = df[col].method(value) instead, to perform the operation inplace on the original object.\n",
      "\n",
      "\n",
      "  df[col].fillna(df[col].mode()[0], inplace=True)\n",
      "C:\\Users\\reddy\\AppData\\Local\\Temp\\ipykernel_21460\\1340737594.py:21: FutureWarning: A value is trying to be set on a copy of a DataFrame or Series through chained assignment using an inplace method.\n",
      "The behavior will change in pandas 3.0. This inplace method will never work because the intermediate object on which we are setting values always behaves as a copy.\n",
      "\n",
      "For example, when doing 'df[col].method(value, inplace=True)', try using 'df.method({col: value}, inplace=True)' or df[col] = df[col].method(value) instead, to perform the operation inplace on the original object.\n",
      "\n",
      "\n",
      "  df[col].fillna(df[col].mode()[0], inplace=True)\n",
      "C:\\Users\\reddy\\AppData\\Local\\Temp\\ipykernel_21460\\1340737594.py:21: FutureWarning: A value is trying to be set on a copy of a DataFrame or Series through chained assignment using an inplace method.\n",
      "The behavior will change in pandas 3.0. This inplace method will never work because the intermediate object on which we are setting values always behaves as a copy.\n",
      "\n",
      "For example, when doing 'df[col].method(value, inplace=True)', try using 'df.method({col: value}, inplace=True)' or df[col] = df[col].method(value) instead, to perform the operation inplace on the original object.\n",
      "\n",
      "\n",
      "  df[col].fillna(df[col].mode()[0], inplace=True)\n",
      "C:\\Users\\reddy\\AppData\\Local\\Temp\\ipykernel_21460\\1340737594.py:21: FutureWarning: A value is trying to be set on a copy of a DataFrame or Series through chained assignment using an inplace method.\n",
      "The behavior will change in pandas 3.0. This inplace method will never work because the intermediate object on which we are setting values always behaves as a copy.\n",
      "\n",
      "For example, when doing 'df[col].method(value, inplace=True)', try using 'df.method({col: value}, inplace=True)' or df[col] = df[col].method(value) instead, to perform the operation inplace on the original object.\n",
      "\n",
      "\n",
      "  df[col].fillna(df[col].mode()[0], inplace=True)\n",
      "C:\\Users\\reddy\\AppData\\Local\\Temp\\ipykernel_21460\\1340737594.py:21: FutureWarning: A value is trying to be set on a copy of a DataFrame or Series through chained assignment using an inplace method.\n",
      "The behavior will change in pandas 3.0. This inplace method will never work because the intermediate object on which we are setting values always behaves as a copy.\n",
      "\n",
      "For example, when doing 'df[col].method(value, inplace=True)', try using 'df.method({col: value}, inplace=True)' or df[col] = df[col].method(value) instead, to perform the operation inplace on the original object.\n",
      "\n",
      "\n",
      "  df[col].fillna(df[col].mode()[0], inplace=True)\n",
      "C:\\Users\\reddy\\AppData\\Local\\Temp\\ipykernel_21460\\1340737594.py:25: FutureWarning: A value is trying to be set on a copy of a DataFrame or Series through chained assignment using an inplace method.\n",
      "The behavior will change in pandas 3.0. This inplace method will never work because the intermediate object on which we are setting values always behaves as a copy.\n",
      "\n",
      "For example, when doing 'df[col].method(value, inplace=True)', try using 'df.method({col: value}, inplace=True)' or df[col] = df[col].method(value) instead, to perform the operation inplace on the original object.\n",
      "\n",
      "\n",
      "  df[col].fillna(df[col].median(), inplace=True)\n",
      "C:\\Users\\reddy\\AppData\\Local\\Temp\\ipykernel_21460\\1340737594.py:25: FutureWarning: A value is trying to be set on a copy of a DataFrame or Series through chained assignment using an inplace method.\n",
      "The behavior will change in pandas 3.0. This inplace method will never work because the intermediate object on which we are setting values always behaves as a copy.\n",
      "\n",
      "For example, when doing 'df[col].method(value, inplace=True)', try using 'df.method({col: value}, inplace=True)' or df[col] = df[col].method(value) instead, to perform the operation inplace on the original object.\n",
      "\n",
      "\n",
      "  df[col].fillna(df[col].median(), inplace=True)\n",
      "C:\\Users\\reddy\\AppData\\Local\\Temp\\ipykernel_21460\\1340737594.py:25: FutureWarning: A value is trying to be set on a copy of a DataFrame or Series through chained assignment using an inplace method.\n",
      "The behavior will change in pandas 3.0. This inplace method will never work because the intermediate object on which we are setting values always behaves as a copy.\n",
      "\n",
      "For example, when doing 'df[col].method(value, inplace=True)', try using 'df.method({col: value}, inplace=True)' or df[col] = df[col].method(value) instead, to perform the operation inplace on the original object.\n",
      "\n",
      "\n",
      "  df[col].fillna(df[col].median(), inplace=True)\n",
      "C:\\Users\\reddy\\AppData\\Local\\Temp\\ipykernel_21460\\1340737594.py:25: FutureWarning: A value is trying to be set on a copy of a DataFrame or Series through chained assignment using an inplace method.\n",
      "The behavior will change in pandas 3.0. This inplace method will never work because the intermediate object on which we are setting values always behaves as a copy.\n",
      "\n",
      "For example, when doing 'df[col].method(value, inplace=True)', try using 'df.method({col: value}, inplace=True)' or df[col] = df[col].method(value) instead, to perform the operation inplace on the original object.\n",
      "\n",
      "\n",
      "  df[col].fillna(df[col].median(), inplace=True)\n",
      "C:\\Users\\reddy\\AppData\\Local\\Temp\\ipykernel_21460\\1340737594.py:27: FutureWarning: A value is trying to be set on a copy of a DataFrame or Series through chained assignment using an inplace method.\n",
      "The behavior will change in pandas 3.0. This inplace method will never work because the intermediate object on which we are setting values always behaves as a copy.\n",
      "\n",
      "For example, when doing 'df[col].method(value, inplace=True)', try using 'df.method({col: value}, inplace=True)' or df[col] = df[col].method(value) instead, to perform the operation inplace on the original object.\n",
      "\n",
      "\n",
      "  df['Credit_History'].fillna(df['Credit_History'].mode()[0], inplace=True)\n"
     ]
    }
   ],
   "source": [
    "df=pd.read_csv(\"training_set.csv\")\n",
    "df['Loan_ID'] = df['Loan_ID'].str.replace(\"LP\", \"\", regex=True).astype(int)\n",
    "# Create one-hot encoded columns for property_Area while keeping the original column\n",
    "df_encoded = pd.get_dummies(df['property_Area'], prefix='property_Area')\n",
    "df = pd.concat([df, df_encoded], axis=1)\n",
    "df.rename(columns={'property_Area_Urban': 'Urban', 'property_Area_Rural': 'Rural', 'property_Area_Semiurban': 'Semiurban'}, inplace=True)\n",
    "\n",
    "df_encoded_gender = pd.get_dummies(df['Gender'], prefix='Gender')\n",
    "df = pd.concat([df, df_encoded_gender], axis=1)\n",
    "df.rename(columns={'Gender_Male': 'Male', 'Gender_Female': 'Female'}, inplace=True)\n",
    "categorical_columns = ['Gender', 'Married', 'Dependents', 'Education', 'Self_Employed',\n",
    "                       'property_Area', 'Loan_Status','Rural','Urban','Semiurban','Female','Male']\n",
    "\n",
    "# Convert categorical values to numeric using label encoding\n",
    "for col in categorical_columns:\n",
    "    df[col] = df[col].astype('category').cat.codes  # Converts categories to numbers\n",
    "df.replace(-1, np.nan, inplace=True)\n",
    "\n",
    "\n",
    "for col in categorical_columns:\n",
    "    df[col].fillna(df[col].mode()[0], inplace=True)\n",
    "\n",
    "num_cols = ['ApplicantIncome', 'CoapplicantIncome', 'LoanAmount', 'Loan_Amount_Term']\n",
    "for col in num_cols:\n",
    "    df[col].fillna(df[col].median(), inplace=True)\n",
    "\n",
    "df['Credit_History'].fillna(df['Credit_History'].mode()[0], inplace=True)\n",
    "\n",
    "df['Total_Income'] = df['ApplicantIncome'] + df['CoapplicantIncome']\n",
    "df['Loan_Income_Ratio'] = df['LoanAmount'] / df['Total_Income']\n",
    "df['EMI'] = df['LoanAmount'] / df['Loan_Amount_Term']\n",
    "df['Balance_Income'] = df['Total_Income'] - df['EMI']"
   ]
  },
  {
   "cell_type": "code",
   "execution_count": 7,
   "id": "0875eb49-0d31-4919-8bbc-3629a9a165c3",
   "metadata": {},
   "outputs": [],
   "source": [
    "train, test = train_test_split(df,train_size=0.75, random_state=42)"
   ]
  },
  {
   "cell_type": "code",
   "execution_count": 8,
   "id": "0da620c3-ec18-4077-87ec-531ecf3d5dc2",
   "metadata": {},
   "outputs": [],
   "source": [
    "y_train = train['Loan_Status']\n",
    "X_train = train.drop(columns='Loan_Status')"
   ]
  },
  {
   "cell_type": "code",
   "execution_count": 9,
   "id": "48133531-6028-466d-8dc8-c8b0ea6b6dad",
   "metadata": {},
   "outputs": [],
   "source": [
    "y_test = test['Loan_Status']\n",
    "X_test = test.drop(columns='Loan_Status')"
   ]
  },
  {
   "cell_type": "code",
   "execution_count": 10,
   "id": "ba7103fd-33dc-44b8-ba76-67746a1b176e",
   "metadata": {},
   "outputs": [],
   "source": [
    "def showStatistcs(Y_pred,Y,methodname):\n",
    "    print(f'the performance metrics for test data using {methodname}:\\n')\n",
    "    print(f'Confusion matrix:\\n{confusion_matrix(Y_pred,Y)}\\n')\n",
    "    print(f'Accuracy Score :{accuracy_score(Y_pred,Y)*100 :.4f}\\n')\n",
    "    print(f'Precision Score :{precision_score(Y_pred,Y)*100 :.4f}\\n')\n",
    "    print(f'Recall Score :{recall_score(Y_pred,Y)*100 :.4f}\\n')\n",
    "    print(f'f1 Score :{f1_score(Y_pred,Y)*100 :.4f}\\n')"
   ]
  },
  {
   "cell_type": "code",
   "execution_count": 11,
   "id": "b3a2d0db-146e-411b-a64b-f4512b23630a",
   "metadata": {},
   "outputs": [
    {
     "name": "stdout",
     "output_type": "stream",
     "text": [
      "[LightGBM] [Info] Number of positive: 322, number of negative: 138\n",
      "[LightGBM] [Info] Auto-choosing col-wise multi-threading, the overhead of testing was 0.000621 seconds.\n",
      "You can set `force_col_wise=true` to remove the overhead.\n",
      "[LightGBM] [Info] Total Bins 1078\n",
      "[LightGBM] [Info] Number of data points in the train set: 460, number of used features: 21\n",
      "[LightGBM] [Info] [binary:BoostFromScore]: pavg=0.700000 -> initscore=0.847298\n",
      "[LightGBM] [Info] Start training from score 0.847298\n",
      "[LightGBM] [Warning] No further splits with positive gain, best gain: -inf\n",
      "[LightGBM] [Warning] No further splits with positive gain, best gain: -inf\n",
      "the performance metrics for test data using LightGBM:\n",
      "\n",
      "Confusion matrix:\n",
      "[[25  6]\n",
      " [29 94]]\n",
      "\n",
      "Accuracy Score :77.2727\n",
      "\n",
      "Precision Score :94.0000\n",
      "\n",
      "Recall Score :76.4228\n",
      "\n",
      "f1 Score :84.3049\n",
      "\n"
     ]
    }
   ],
   "source": [
    "lgbm = LGBMClassifier(n_estimators=2, max_depth=2, learning_rate=1)\n",
    "lgbm.fit(X_train, y_train)\n",
    "\n",
    "y_test_pred = lgbm.predict(X_test)\n",
    "\n",
    "showStatistcs(y_test_pred, y_test, 'LightGBM')"
   ]
  },
  {
   "cell_type": "code",
   "execution_count": 12,
   "id": "0b26f380-4183-4fae-ac80-473525368b0c",
   "metadata": {},
   "outputs": [
    {
     "name": "stdout",
     "output_type": "stream",
     "text": [
      "the performance metrics for test data using DecisionTrees:\n",
      "\n",
      "Confusion matrix:\n",
      "[[35 24]\n",
      " [19 76]]\n",
      "\n",
      "Accuracy Score :72.0779\n",
      "\n",
      "Precision Score :76.0000\n",
      "\n",
      "Recall Score :80.0000\n",
      "\n",
      "f1 Score :77.9487\n",
      "\n"
     ]
    }
   ],
   "source": [
    "detree = DecisionTreeClassifier(random_state=0)\n",
    "detree.fit(X_train, y_train)\n",
    "\n",
    "y_test_pred = detree.predict(X_test)\n",
    "\n",
    "showStatistcs(y_test_pred, y_test, 'DecisionTrees')"
   ]
  }
 ],
 "metadata": {
  "kernelspec": {
   "display_name": "Python 3 (ipykernel)",
   "language": "python",
   "name": "python3"
  },
  "language_info": {
   "codemirror_mode": {
    "name": "ipython",
    "version": 3
   },
   "file_extension": ".py",
   "mimetype": "text/x-python",
   "name": "python",
   "nbconvert_exporter": "python",
   "pygments_lexer": "ipython3",
   "version": "3.13.0"
  }
 },
 "nbformat": 4,
 "nbformat_minor": 5
}
