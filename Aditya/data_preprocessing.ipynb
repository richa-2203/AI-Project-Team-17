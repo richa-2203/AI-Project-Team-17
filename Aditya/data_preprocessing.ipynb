import pandas as pd
import numpy as np
from sklearn.preprocessing import LabelEncoder, StandardScaler
train = pd.read_csv("training_set.csv")
test = pd.read_csv("testing_set.csv")
train.head(10)
test.head(10)
train.fillna(train.median(numeric_only=True), inplace=True)
test.fillna(test.median(numeric_only=True), inplace=True)
train.fillna(train.mode().iloc[0], inplace=True)
test.fillna(test.mode().iloc[0], inplace=True)
categorical_cols = ["Gender", "Married", "Education", "Self_Employed", "Credit_History", "property_Area"]
label_encoders = {}

for col in categorical_cols:
    le = LabelEncoder()
    train[col] = le.fit_transform(train[col])
    test[col] = le.transform(test[col])
    label_encoders[col] = le


scaler = StandardScaler()
num_cols = ["ApplicantIncome", "CoapplicantIncome", "LoanAmount", "Loan_Amount_Term"]
train[num_cols] = scaler.fit_transform(train[num_cols])
test[num_cols] = scaler.transform(test[num_cols])


train.to_csv("cleaned_train.csv", index=False)
test.to_csv("cleaned_test.csv", index=False)

print("Preprocessing done. Cleaned files saved as 'cleaned_train.csv' and 'cleaned_test.csv'.")
