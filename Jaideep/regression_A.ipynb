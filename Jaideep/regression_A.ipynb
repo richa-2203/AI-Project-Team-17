{
 "cells": [
  {
   "cell_type": "code",
   "execution_count": 1,
   "id": "44fa9ec8-2d26-4ad5-b7d9-69a1a1334d1a",
   "metadata": {},
   "outputs": [],
   "source": [
    "import pandas as pd\n",
    "import numpy as np\n",
    "import matplotlib.pyplot as plt\n",
    "import seaborn as sns\n",
    "from sklearn.model_selection import train_test_split\n",
    "from sklearn.metrics import accuracy_score, f1_score, recall_score, precision_score, confusion_matrix\n",
    "from sklearn.naive_bayes import GaussianNB\n",
    "from sklearn.preprocessing import PolynomialFeatures\n",
    "from sklearn.linear_model import LinearRegression\n",
    "from sklearn.metrics import mean_squared_error, mean_absolute_error\n",
    "from math import sqrt\n",
    "from sklearn.ensemble import RandomForestClassifier\n",
    "from sklearn.ensemble import RandomForestRegressor\n",
    "from sklearn.metrics import r2_score"
   ]
  },
  {
   "cell_type": "code",
   "execution_count": 2,
   "id": "a040a00c-2e46-4aca-8d2c-28e26b66131b",
   "metadata": {},
   "outputs": [],
   "source": [
    "df=pd.read_csv(\"train_preprocessed.csv\")"
   ]
  },
  {
   "cell_type": "code",
   "execution_count": 3,
   "id": "6e2facea-bcbc-407e-9a2f-47025bca01c2",
   "metadata": {},
   "outputs": [
    {
     "name": "stdout",
     "output_type": "stream",
     "text": [
      "LoanAmount                 1.000000\n",
      "ApplicantIncome            0.594518\n",
      "CoapplicantIncome          0.249131\n",
      "Dependents                 0.163205\n",
      "Married                    0.153527\n",
      "Gender_Male                0.113118\n",
      "Self_Employed              0.112711\n",
      "property_Area_Urban        0.051066\n",
      "Loan_Amount_Term           0.037545\n",
      "Credit_History             0.000427\n",
      "property_Area_Rural       -0.004833\n",
      "Loan_Status               -0.041341\n",
      "property_Area_Semiurban   -0.044403\n",
      "Gender_Female             -0.113118\n",
      "Education                 -0.174001\n",
      "Name: LoanAmount, dtype: float64\n"
     ]
    }
   ],
   "source": [
    "# Only works for numeric features\n",
    "correlations = df.corr(numeric_only=True)['LoanAmount'].sort_values(ascending=False)\n",
    "print(correlations)\n"
   ]
  },
  {
   "cell_type": "code",
   "execution_count": 4,
   "id": "14a85e5c-f6f7-4ab2-8247-cfeb1601726a",
   "metadata": {},
   "outputs": [],
   "source": [
    "train, test = train_test_split(df,train_size=0.75, random_state=42)"
   ]
  },
  {
   "cell_type": "code",
   "execution_count": 5,
   "id": "181134e2-32a5-49b0-b566-0ee4b4a57137",
   "metadata": {},
   "outputs": [
    {
     "data": {
      "text/html": [
       "<div>\n",
       "<style scoped>\n",
       "    .dataframe tbody tr th:only-of-type {\n",
       "        vertical-align: middle;\n",
       "    }\n",
       "\n",
       "    .dataframe tbody tr th {\n",
       "        vertical-align: top;\n",
       "    }\n",
       "\n",
       "    .dataframe thead th {\n",
       "        text-align: right;\n",
       "    }\n",
       "</style>\n",
       "<table border=\"1\" class=\"dataframe\">\n",
       "  <thead>\n",
       "    <tr style=\"text-align: right;\">\n",
       "      <th></th>\n",
       "      <th>Married</th>\n",
       "      <th>Dependents</th>\n",
       "      <th>Education</th>\n",
       "      <th>Self_Employed</th>\n",
       "      <th>ApplicantIncome</th>\n",
       "      <th>CoapplicantIncome</th>\n",
       "      <th>LoanAmount</th>\n",
       "      <th>Loan_Amount_Term</th>\n",
       "      <th>Credit_History</th>\n",
       "      <th>property_Area_Rural</th>\n",
       "      <th>property_Area_Semiurban</th>\n",
       "      <th>property_Area_Urban</th>\n",
       "      <th>Gender_Female</th>\n",
       "      <th>Gender_Male</th>\n",
       "    </tr>\n",
       "  </thead>\n",
       "  <tbody>\n",
       "    <tr>\n",
       "      <th>92</th>\n",
       "      <td>1.0</td>\n",
       "      <td>2.0</td>\n",
       "      <td>1.0</td>\n",
       "      <td>0.0</td>\n",
       "      <td>3273.0</td>\n",
       "      <td>1820.0</td>\n",
       "      <td>81.0</td>\n",
       "      <td>360.0</td>\n",
       "      <td>1.0</td>\n",
       "      <td>0</td>\n",
       "      <td>1</td>\n",
       "      <td>0</td>\n",
       "      <td>0</td>\n",
       "      <td>1</td>\n",
       "    </tr>\n",
       "    <tr>\n",
       "      <th>304</th>\n",
       "      <td>0.0</td>\n",
       "      <td>0.0</td>\n",
       "      <td>0.0</td>\n",
       "      <td>0.0</td>\n",
       "      <td>4000.0</td>\n",
       "      <td>2500.0</td>\n",
       "      <td>140.0</td>\n",
       "      <td>360.0</td>\n",
       "      <td>1.0</td>\n",
       "      <td>0</td>\n",
       "      <td>0</td>\n",
       "      <td>1</td>\n",
       "      <td>0</td>\n",
       "      <td>1</td>\n",
       "    </tr>\n",
       "    <tr>\n",
       "      <th>68</th>\n",
       "      <td>1.0</td>\n",
       "      <td>3.0</td>\n",
       "      <td>1.0</td>\n",
       "      <td>1.0</td>\n",
       "      <td>7100.0</td>\n",
       "      <td>0.0</td>\n",
       "      <td>125.0</td>\n",
       "      <td>84.0</td>\n",
       "      <td>1.0</td>\n",
       "      <td>0</td>\n",
       "      <td>1</td>\n",
       "      <td>0</td>\n",
       "      <td>0</td>\n",
       "      <td>1</td>\n",
       "    </tr>\n",
       "    <tr>\n",
       "      <th>15</th>\n",
       "      <td>0.0</td>\n",
       "      <td>0.0</td>\n",
       "      <td>0.0</td>\n",
       "      <td>0.0</td>\n",
       "      <td>3806.0</td>\n",
       "      <td>0.0</td>\n",
       "      <td>125.0</td>\n",
       "      <td>360.0</td>\n",
       "      <td>1.0</td>\n",
       "      <td>0</td>\n",
       "      <td>1</td>\n",
       "      <td>0</td>\n",
       "      <td>0</td>\n",
       "      <td>1</td>\n",
       "    </tr>\n",
       "    <tr>\n",
       "      <th>211</th>\n",
       "      <td>1.0</td>\n",
       "      <td>3.0</td>\n",
       "      <td>0.0</td>\n",
       "      <td>0.0</td>\n",
       "      <td>3430.0</td>\n",
       "      <td>1250.0</td>\n",
       "      <td>128.0</td>\n",
       "      <td>360.0</td>\n",
       "      <td>0.0</td>\n",
       "      <td>1</td>\n",
       "      <td>0</td>\n",
       "      <td>0</td>\n",
       "      <td>0</td>\n",
       "      <td>1</td>\n",
       "    </tr>\n",
       "  </tbody>\n",
       "</table>\n",
       "</div>"
      ],
      "text/plain": [
       "     Married  Dependents  Education  Self_Employed  ApplicantIncome  \\\n",
       "92       1.0         2.0        1.0            0.0           3273.0   \n",
       "304      0.0         0.0        0.0            0.0           4000.0   \n",
       "68       1.0         3.0        1.0            1.0           7100.0   \n",
       "15       0.0         0.0        0.0            0.0           3806.0   \n",
       "211      1.0         3.0        0.0            0.0           3430.0   \n",
       "\n",
       "     CoapplicantIncome  LoanAmount  Loan_Amount_Term  Credit_History  \\\n",
       "92              1820.0        81.0             360.0             1.0   \n",
       "304             2500.0       140.0             360.0             1.0   \n",
       "68                 0.0       125.0              84.0             1.0   \n",
       "15                 0.0       125.0             360.0             1.0   \n",
       "211             1250.0       128.0             360.0             0.0   \n",
       "\n",
       "     property_Area_Rural  property_Area_Semiurban  property_Area_Urban  \\\n",
       "92                     0                        1                    0   \n",
       "304                    0                        0                    1   \n",
       "68                     0                        1                    0   \n",
       "15                     0                        1                    0   \n",
       "211                    1                        0                    0   \n",
       "\n",
       "     Gender_Female  Gender_Male  \n",
       "92               0            1  \n",
       "304              0            1  \n",
       "68               0            1  \n",
       "15               0            1  \n",
       "211              0            1  "
      ]
     },
     "execution_count": 5,
     "metadata": {},
     "output_type": "execute_result"
    }
   ],
   "source": [
    "y_train = train['Loan_Status']\n",
    "X_train = train.drop(columns='Loan_Status')\n",
    "X_train.head()"
   ]
  },
  {
   "cell_type": "code",
   "execution_count": 6,
   "id": "33153bb4-ffd9-4afa-b0fc-a8c80b28c482",
   "metadata": {},
   "outputs": [],
   "source": [
    "y_test = test['Loan_Status']\n",
    "X_test = test.drop(columns='Loan_Status')"
   ]
  },
  {
   "cell_type": "code",
   "execution_count": 7,
   "id": "3a5b1009-67ce-45d8-ba4f-fde3ab7d6662",
   "metadata": {},
   "outputs": [],
   "source": [
    "def showStatistcs(Y_pred,Y,methodname):\n",
    "    print(f'the performance metrics for test data using {methodname}:\\n')\n",
    "    print(f'Confusion matrix:\\n{confusion_matrix(Y_pred,Y)}\\n')\n",
    "    print(f'Accuracy Score :{accuracy_score(Y_pred,Y)*100 :.4f}\\n')\n",
    "    print(f'Precision Score :{precision_score(Y_pred,Y)*100 :.4f}\\n')\n",
    "    print(f'Recall Score :{recall_score(Y_pred,Y)*100 :.4f}\\n')\n",
    "    print(f'f1 Score :{f1_score(Y_pred,Y)*100 :.4f}\\n')"
   ]
  },
  {
   "cell_type": "code",
   "execution_count": 8,
   "id": "15d571b4-2945-4892-8442-6c4c2827279c",
   "metadata": {},
   "outputs": [
    {
     "name": "stdout",
     "output_type": "stream",
     "text": [
      "RMSE: 47.120\n",
      "MAE: 32.777\n",
      "Accuracy: 0.400\n",
      "0.6126981316768062\n"
     ]
    },
    {
     "data": {
      "text/plain": [
       "<Axes: >"
      ]
     },
     "execution_count": 8,
     "metadata": {},
     "output_type": "execute_result"
    },
    {
     "data": {
      "image/png": "[encoded data removed]",
      "text/plain": [
       "<Figure size 640x480 with 1 Axes>"
      ]
     },
     "metadata": {},
     "output_type": "display_data"
    }
   ],
   "source": [
    "y_train = train[train['Loan_Status']==1]['LoanAmount']\n",
    "X_train = train[train['Loan_Status']==1].drop(columns=['LoanAmount','Loan_Status'])\n",
    "\n",
    "y_test = test[test['Loan_Status']==1]['LoanAmount']\n",
    "X_test = test[test['Loan_Status']==1].drop(columns=['LoanAmount','Loan_Status'])\n",
    "\n",
    "model = LinearRegression()\n",
    "model.fit(X_train, y_train)\n",
    "\n",
    "y_test_predict = model.predict(X_test)\n",
    "\n",
    "rmse_train = sqrt(mean_squared_error(y_test_predict, y_test))\n",
    "print(f'RMSE: {rmse_train:.3f}')\n",
    "mae_train = mean_absolute_error(y_test_predict, y_test)\n",
    "print(f'MAE: {mae_train:.3f}')\n",
    "\n",
    "epsilon = 1e-3\n",
    "comparision = (y_test_predict <= y_test + epsilon)\n",
    "accuracy_type = comparision.sum()/len(y_test_predict)\n",
    "print(f'Accuracy: {accuracy_type:.3f}')\n",
    "print(r2_score(y_test, y_test_predict))\n",
    "\n",
    "from sklearn.inspection import permutation_importance\n",
    "\n",
    "result = permutation_importance(model, X_test, y_test, n_repeats=10, random_state=42)\n",
    "importance = pd.Series(result.importances_mean, index=X_test.columns)\n",
    "importance.sort_values(ascending=False).plot(kind='barh')\n"
   ]
  },
  {
   "cell_type": "code",
   "execution_count": 9,
   "id": "e2663d71-79c7-476e-b2e2-fc5d85aef28c",
   "metadata": {},
   "outputs": [
    {
     "name": "stdout",
     "output_type": "stream",
     "text": [
      "RMSE: 51.594\n",
      "MAE: 32.058\n",
      "Accuracy: 0.500\n",
      "0.5356540925378888\n"
     ]
    }
   ],
   "source": [
    "y_train = train[train['Loan_Status']==1]['LoanAmount']\n",
    "X_train = train[train['Loan_Status']==1].drop(columns=['LoanAmount','Loan_Status'])\n",
    "\n",
    "y_test = test[test['Loan_Status']==1]['LoanAmount']\n",
    "X_test = test[test['Loan_Status']==1].drop(columns=['LoanAmount','Loan_Status'])\n",
    "\n",
    "model_rf = RandomForestRegressor()\n",
    "model_rf.fit(X_train, y_train)\n",
    "\n",
    "y_test_predict = model_rf.predict(X_test)\n",
    "\n",
    "rmse_train = sqrt(mean_squared_error(y_test_predict, y_test))\n",
    "print(f'RMSE: {rmse_train:.3f}')\n",
    "mae_train = mean_absolute_error(y_test_predict, y_test)\n",
    "print(f'MAE: {mae_train:.3f}')\n",
    "\n",
    "epsilon = 1e-3\n",
    "comparision = (y_test_predict <= y_test + epsilon)\n",
    "accuracy_type = comparision.sum()/len(y_test_predict)\n",
    "print(f'Accuracy: {accuracy_type:.3f}')\n",
    "print(r2_score(y_test, y_test_predict))"
   ]
  },
  {
   "cell_type": "code",
   "execution_count": 10,
   "id": "060bb419-a5af-4531-9b2f-860d89ebdc62",
   "metadata": {},
   "outputs": [
    {
     "name": "stdout",
     "output_type": "stream",
     "text": [
      "RMSE: 51691.170\n",
      "MAE: 5333.581\n",
      "Accuracy: 0.580\n",
      "-466093.4886072258\n",
      "First 5 actual: [228. 130. 158.  71.  70. 107. 120.  66. 153.  94.]\n",
      "First 5 preds: [212.75335808  94.72404917 120.2716935   97.85024405  87.49856601\n",
      " 130.31479143 100.11729364  82.67605518 125.82139333 -40.89763981]\n"
     ]
    }
   ],
   "source": [
    "y_train = train[train['Loan_Status']==1]['LoanAmount']\n",
    "X_train = train[train['Loan_Status']==1].drop(columns=['LoanAmount','Loan_Status'])\n",
    "\n",
    "y_test = test[test['Loan_Status']==1]['LoanAmount']\n",
    "X_test = test[test['Loan_Status']==1].drop(columns=['LoanAmount','Loan_Status'])\n",
    "\n",
    "transfomer = PolynomialFeatures(degree=4)\n",
    "X_train_transf = transfomer.fit_transform(X_train)\n",
    "X_test_transf = transfomer.fit_transform(X_test)\n",
    "\n",
    "model_p = LinearRegression()\n",
    "model_p.fit(X_train_transf, y_train)\n",
    "\n",
    "y_test_predict = model_p.predict(X_test_transf)\n",
    "\n",
    "rmse_train = sqrt(mean_squared_error(y_test_predict, y_test))\n",
    "print(f'RMSE: {rmse_train:.3f}')\n",
    "mae_train = mean_absolute_error(y_test_predict, y_test)\n",
    "print(f'MAE: {mae_train:.3f}')\n",
    "\n",
    "epsilon = 1e-3\n",
    "comparision = (y_test_predict <= y_test + epsilon)\n",
    "accuracy_type = comparision.sum()/len(y_test_predict)\n",
    "print(f'Accuracy: {accuracy_type:.3f}')\n",
    "print(r2_score(y_test, y_test_predict))\n",
    "\n",
    "print(\"First 5 actual:\", y_test.values[:10])\n",
    "print(\"First 5 preds:\", y_test_predict[:10])"
   ]
  },
  {
   "cell_type": "code",
   "execution_count": 11,
   "id": "4ff28a27-9fc4-425f-93fc-9cfc2c6caef1",
   "metadata": {},
   "outputs": [],
   "source": [
    "df = pd.read_csv('submissions.csv')"
   ]
  },
  {
   "cell_type": "code",
   "execution_count": 12,
   "id": "a709f80c-3fc2-410c-a6ff-0123a0355af6",
   "metadata": {},
   "outputs": [
    {
     "name": "stdout",
     "output_type": "stream",
     "text": [
      "Loan amount rejected : 7      147.0\n",
      "13     166.0\n",
      "25     148.0\n",
      "35     176.0\n",
      "55     130.0\n",
      "       ...  \n",
      "325     95.0\n",
      "339    162.0\n",
      "346    133.0\n",
      "351    106.0\n",
      "354    158.0\n",
      "Name: LoanAmount, Length: 67, dtype: float64\n",
      "Loan amount should get accepted(after regression) : [110.63   376.9197 145.25    95.733   70.213  133.45    96.79   111.27\n",
      "  93.418  182.12   120.7045 126.26   400.0833 119.53   118.0365 149.75\n",
      "  76.8865  65.2285 124.6565 116.96   125.18   167.75   273.084  157.79\n",
      "  82.097  109.81   164.6952 212.5887 187.94   120.81    91.53    68.04\n",
      "  83.9615 133.41   104.7    115.03   116.6305 133.02   110.6    113.02\n",
      "  96.58   169.6965 156.85   144.49   122.07   157.76   255.14   131.67\n",
      " 120.3    110.95   113.31   111.11   133.01   143.4495 126.172  107.903\n",
      " 111.45   110.27   155.21   167.33    78.1215 127.6465  97.7195 149.85\n",
      " 123.44   139.83   152.66  ]\n",
      "[110.63   376.9197 145.25    95.733   70.213  133.45    96.79   111.27\n",
      "  93.418  182.12   120.7045 126.26   400.0833 119.53   118.0365 149.75\n",
      "  76.8865  65.2285 124.6565 116.96   125.18   167.75   273.084  157.79\n",
      "  82.097  109.81   164.6952 212.5887 187.94   120.81    91.53    68.04\n",
      "  83.9615 133.41   104.7    115.03   116.6305 133.02   110.6    113.02\n",
      "  96.58   169.6965 156.85   144.49   122.07   157.76   255.14   131.67\n",
      " 120.3    110.95   113.31   111.11   133.01   143.4495 126.172  107.903\n",
      " 111.45   110.27   155.21   167.33    78.1215 127.6465  97.7195 149.85\n",
      " 123.44   139.83   152.66  ]\n"
     ]
    }
   ],
   "source": [
    "X_test = df[df['Loan_Status']==0].drop(columns=['LoanAmount','Loan_Status'])\n",
    "\n",
    "y_testing = df[df['Loan_Status']==0]['LoanAmount']\n",
    "print(f'Loan amount rejected : {y_testing}')\n",
    "\n",
    "# X_test_transf = transfomer.transform(X_test)\n",
    "# y_test_predict = model.predict(X_test_transf)\n",
    "\n",
    "# model = RandomForestRegressor()\n",
    "# model.fit(X_train, y_train)\n",
    "# y_test_predict = model.predict(X_test)\n",
    "\n",
    "y_test_predict = model_rf.predict(X_test)\n",
    "\n",
    "print(f'Loan amount should get accepted(after regression) : {y_test_predict}')\n",
    "print(y_test_predict)\n",
    "\n",
    "\n",
    "mask = df['Loan_Status']==0\n",
    "df.loc[mask, 'Loan_Amount'] = y_test_predict\n",
    "\n",
    "df.to_csv('submissions2.csv', index=False)"
   ]
  },
  {
   "cell_type": "code",
   "execution_count": null,
   "id": "369b0790-64ad-4e90-841e-77bce60dbe4b",
   "metadata": {},
   "outputs": [],
   "source": []
  },
  {
   "cell_type": "code",
   "execution_count": null,
   "id": "179416b0-c4b0-4e6e-833f-bd63719062f4",
   "metadata": {},
   "outputs": [],
   "source": []
  },
  {
   "cell_type": "code",
   "execution_count": null,
   "id": "4ba1441d-da47-4734-bff4-733410b240ad",
   "metadata": {},
   "outputs": [],
   "source": []
  }
 ],
 "metadata": {
  "kernelspec": {
   "display_name": "Python 3 (ipykernel)",
   "language": "python",
   "name": "python3"
  },
  "language_info": {
   "codemirror_mode": {
    "name": "ipython",
    "version": 3
   },
   "file_extension": ".py",
   "mimetype": "text/x-python",
   "name": "python",
   "nbconvert_exporter": "python",
   "pygments_lexer": "ipython3",
   "version": "3.13.0"
  }
 },
 "nbformat": 4,
 "nbformat_minor": 5
}
