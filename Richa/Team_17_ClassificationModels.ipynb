{
 "cells": [
  {
   "cell_type": "code",
   "execution_count": 8,
   "id": "64f9f594",
   "metadata": {},
   "outputs": [],
   "source": [
    "import pandas as pd\n",
    "import numpy as np\n",
    "import matplotlib.pyplot as plt\n",
    "import seaborn as sns\n",
    "from sklearn.model_selection import train_test_split\n",
    "from sklearn.metrics import accuracy_score, f1_score, recall_score, precision_score, confusion_matrix,classification_report\n",
    "from sklearn.naive_bayes import GaussianNB\n",
    "from xgboost import XGBClassifier\n",
    "from sklearn.tree import DecisionTreeClassifier\n",
    "from sklearn.ensemble import RandomForestClassifier\n",
    "from sklearn.decomposition import PCA\n",
    "from sklearn.svm import SVC\n",
    "from sklearn.linear_model import LogisticRegression\n",
    "from sklearn.preprocessing import StandardScaler"
   ]
  },
  {
   "cell_type": "code",
   "execution_count": 9,
   "id": "27102251",
   "metadata": {},
   "outputs": [],
   "source": [
    "df_cl=pd.read_csv('training_preprocessed.csv')\n",
    "dt_cl=pd.read_csv('testing_preprocessed.csv')"
   ]
  },
  {
   "cell_type": "code",
   "execution_count": 10,
   "id": "cc8a2540",
   "metadata": {},
   "outputs": [],
   "source": [
    "df_cl_train,df_cl_val=train_test_split(df_cl,test_size=0.25,random_state=42)"
   ]
  },
  {
   "cell_type": "code",
   "execution_count": 11,
   "id": "17c09fef",
   "metadata": {},
   "outputs": [],
   "source": [
    "y_cl_train=df_cl_train[\"Loan_Status\"]\n",
    "x_cl_train=df_cl_train.drop(columns=\"Loan_Status\")\n",
    "y_cl_val=df_cl_val[\"Loan_Status\"]\n",
    "x_cl_val=df_cl_val.drop(columns=\"Loan_Status\")"
   ]
  },
  {
   "cell_type": "markdown",
   "id": "6372f148",
   "metadata": {},
   "source": [
    "**Naive Bayes**"
   ]
  },
  {
   "cell_type": "code",
   "execution_count": 12,
   "id": "204e0b7f",
   "metadata": {},
   "outputs": [
    {
     "name": "stdout",
     "output_type": "stream",
     "text": [
      "Accuracy: 0.7727, Precision: 0.7481, Recall: 0.9800, F1-score: 0.8485\n",
      "\n"
     ]
    }
   ],
   "source": [
    "nb = GaussianNB()\n",
    "nb.fit(x_cl_train, y_cl_train)\n",
    "y_cl_val_pred = nb.predict(x_cl_val)\n",
    "cm = confusion_matrix(y_cl_val, y_cl_val_pred)\n",
    "acc = accuracy_score(y_cl_val, y_cl_val_pred)\n",
    "precision = precision_score(y_cl_val, y_cl_val_pred)\n",
    "recall = recall_score(y_cl_val, y_cl_val_pred)\n",
    "f1 = f1_score(y_cl_val, y_cl_val_pred)\n",
    "print(f\"Accuracy: {acc:.4f}, Precision: {precision:.4f}, Recall: {recall:.4f}, F1-score: {f1:.4f}\\n\")"
   ]
  },
  {
   "cell_type": "markdown",
   "id": "351490b1",
   "metadata": {},
   "source": [
    "**Logistic Regression**"
   ]
  },
  {
   "cell_type": "code",
   "execution_count": 13,
   "id": "dd9767e9",
   "metadata": {},
   "outputs": [
    {
     "name": "stdout",
     "output_type": "stream",
     "text": [
      "Accuracy: 0.7597, Precision: 0.7405, Recall: 0.9700, F1-score: 0.8398\n",
      "\n"
     ]
    }
   ],
   "source": [
    "nb = LogisticRegression()\n",
    "nb.fit(x_cl_train, y_cl_train)\n",
    "y_cl_val_pred = nb.predict(x_cl_val)\n",
    "cm = confusion_matrix(y_cl_val, y_cl_val_pred)\n",
    "acc = accuracy_score(y_cl_val, y_cl_val_pred)\n",
    "precision = precision_score(y_cl_val, y_cl_val_pred)\n",
    "recall = recall_score(y_cl_val, y_cl_val_pred)\n",
    "f1 = f1_score(y_cl_val, y_cl_val_pred)\n",
    "print(f\"Accuracy: {acc:.4f}, Precision: {precision:.4f}, Recall: {recall:.4f}, F1-score: {f1:.4f}\\n\")"
   ]
  },
  {
   "cell_type": "markdown",
   "id": "24d85b29",
   "metadata": {},
   "source": [
    "**SVM Linear**"
   ]
  },
  {
   "cell_type": "code",
   "execution_count": 28,
   "id": "9c941d19",
   "metadata": {},
   "outputs": [
    {
     "name": "stdout",
     "output_type": "stream",
     "text": [
      "Accuracy: 0.7532, Precision: 0.7818, Recall: 0.8600, F1-score: 0.8190\n",
      "\n"
     ]
    }
   ],
   "source": [
    "rbf_svm = SVC(kernel='linear', C=1.0)\n",
    "rbf_svm.fit(x_cl_train, y_cl_train)\n",
    "\n",
    "# Predict on validation set\n",
    "y_cl_val_pred = nb.predict(x_cl_val)\n",
    "\n",
    "# Evaluation\n",
    "cm = confusion_matrix(y_cl_val, y_cl_val_pred)\n",
    "acc = accuracy_score(y_cl_val, y_cl_val_pred)\n",
    "precision = precision_score(y_cl_val, y_cl_val_pred)\n",
    "recall = recall_score(y_cl_val, y_cl_val_pred)\n",
    "f1 = f1_score(y_cl_val, y_cl_val_pred)\n",
    "print(f\"Accuracy: {acc:.4f}, Precision: {precision:.4f}, Recall: {recall:.4f}, F1-score: {f1:.4f}\\n\")"
   ]
  },
  {
   "cell_type": "markdown",
   "id": "f76e2304",
   "metadata": {},
   "source": [
    "**SVM Polynomial**"
   ]
  },
  {
   "cell_type": "code",
   "execution_count": 15,
   "id": "ea36c9bc",
   "metadata": {},
   "outputs": [
    {
     "name": "stdout",
     "output_type": "stream",
     "text": [
      "Accuracy: 0.6494, Precision: 0.6494, Recall: 1.0000, F1-score: 0.7874\n",
      "\n"
     ]
    }
   ],
   "source": [
    "poly_svm = SVC(kernel='poly', degree=3, C=5.0, gamma='scale')\n",
    "poly_svm.fit(x_cl_train, y_cl_train)\n",
    "y_cl_val_pred = poly_svm.predict(x_cl_val)\n",
    "cm = confusion_matrix(y_cl_val, y_cl_val_pred)\n",
    "acc = accuracy_score(y_cl_val, y_cl_val_pred)\n",
    "precision = precision_score(y_cl_val, y_cl_val_pred)\n",
    "recall = recall_score(y_cl_val, y_cl_val_pred)\n",
    "f1 = f1_score(y_cl_val, y_cl_val_pred)\n",
    "print(f\"Accuracy: {acc:.4f}, Precision: {precision:.4f}, Recall: {recall:.4f}, F1-score: {f1:.4f}\\n\")"
   ]
  },
  {
   "cell_type": "markdown",
   "id": "3bbd19bc",
   "metadata": {},
   "source": [
    "**SVM RBF**"
   ]
  },
  {
   "cell_type": "code",
   "execution_count": 19,
   "id": "b14df03c",
   "metadata": {},
   "outputs": [
    {
     "name": "stdout",
     "output_type": "stream",
     "text": [
      "Accuracy: 0.6558, Precision: 0.6556, Recall: 0.9900, F1-score: 0.7888\n",
      "\n"
     ]
    }
   ],
   "source": [
    "model = SVC(kernel='rbf', C=5, gamma=0.1)\n",
    "model.fit(x_cl_train, y_cl_train)\n",
    "y_cl_val_pred = model.predict(x_cl_val)\n",
    "cm = confusion_matrix(y_cl_val, y_cl_val_pred)\n",
    "acc = accuracy_score(y_cl_val, y_cl_val_pred)\n",
    "precision = precision_score(y_cl_val, y_cl_val_pred)\n",
    "recall = recall_score(y_cl_val, y_cl_val_pred)\n",
    "f1 = f1_score(y_cl_val, y_cl_val_pred)\n",
    "print(f\"Accuracy: {acc:.4f}, Precision: {precision:.4f}, Recall: {recall:.4f}, F1-score: {f1:.4f}\\n\")"
   ]
  },
  {
   "cell_type": "markdown",
   "id": "d59c092e",
   "metadata": {},
   "source": [
    "**Decision Trees**"
   ]
  },
  {
   "cell_type": "code",
   "execution_count": 20,
   "id": "5c63bb6d",
   "metadata": {},
   "outputs": [
    {
     "name": "stdout",
     "output_type": "stream",
     "text": [
      "Accuracy: 0.7338, Precision: 0.7864, Recall: 0.8100, F1-score: 0.7980\n",
      "\n"
     ]
    }
   ],
   "source": [
    "nb = DecisionTreeClassifier()\n",
    "nb.fit(x_cl_train, y_cl_train)\n",
    "y_cl_val_pred = nb.predict(x_cl_val)\n",
    "cm = confusion_matrix(y_cl_val, y_cl_val_pred)\n",
    "acc = accuracy_score(y_cl_val, y_cl_val_pred)\n",
    "precision = precision_score(y_cl_val, y_cl_val_pred)\n",
    "recall = recall_score(y_cl_val, y_cl_val_pred)\n",
    "f1 = f1_score(y_cl_val, y_cl_val_pred)\n",
    "print(f\"Accuracy: {acc:.4f}, Precision: {precision:.4f}, Recall: {recall:.4f}, F1-score: {f1:.4f}\\n\")"
   ]
  },
  {
   "cell_type": "markdown",
   "id": "b868754d",
   "metadata": {},
   "source": [
    "**XGB Classifier**"
   ]
  },
  {
   "cell_type": "code",
   "execution_count": 21,
   "id": "26795e48",
   "metadata": {},
   "outputs": [
    {
     "name": "stdout",
     "output_type": "stream",
     "text": [
      "Accuracy: 0.7532, Precision: 0.7818, Recall: 0.8600, F1-score: 0.8190\n",
      "\n"
     ]
    }
   ],
   "source": [
    "nb = XGBClassifier()\n",
    "nb.fit(x_cl_train, y_cl_train)\n",
    "y_cl_val_pred = nb.predict(x_cl_val)\n",
    "cm = confusion_matrix(y_cl_val, y_cl_val_pred)\n",
    "acc = accuracy_score(y_cl_val, y_cl_val_pred)\n",
    "precision = precision_score(y_cl_val, y_cl_val_pred)\n",
    "recall = recall_score(y_cl_val, y_cl_val_pred)\n",
    "f1 = f1_score(y_cl_val, y_cl_val_pred)\n",
    "print(f\"Accuracy: {acc:.4f}, Precision: {precision:.4f}, Recall: {recall:.4f}, F1-score: {f1:.4f}\\n\")"
   ]
  },
  {
   "cell_type": "markdown",
   "id": "a1f7e85e",
   "metadata": {},
   "source": [
    "**K Nearest Neighbours**"
   ]
  },
  {
   "cell_type": "code",
   "execution_count": 26,
   "id": "1cbaf44f",
   "metadata": {},
   "outputs": [
    {
     "name": "stdout",
     "output_type": "stream",
     "text": [
      "Accuracy: 0.6234, Precision: 0.6500, Recall: 0.9100, F1-score: 0.7583\n",
      "\n"
     ]
    }
   ],
   "source": [
    "from sklearn.neighbors import KNeighborsClassifier\n",
    "knn = KNeighborsClassifier(n_neighbors=11)\n",
    "knn.fit(x_cl_train, y_cl_train)\n",
    "y_cl_val_pred = knn.predict(x_cl_val)\n",
    "cm = confusion_matrix(y_cl_val, y_cl_val_pred)\n",
    "acc = accuracy_score(y_cl_val, y_cl_val_pred)\n",
    "precision = precision_score(y_cl_val, y_cl_val_pred)\n",
    "recall = recall_score(y_cl_val, y_cl_val_pred)\n",
    "f1 = f1_score(y_cl_val, y_cl_val_pred)\n",
    "print(f\"Accuracy: {acc:.4f}, Precision: {precision:.4f}, Recall: {recall:.4f}, F1-score: {f1:.4f}\\n\")"
   ]
  }
 ],
 "metadata": {
  "kernelspec": {
   "display_name": "base",
   "language": "python",
   "name": "python3"
  },
  "language_info": {
   "codemirror_mode": {
    "name": "ipython",
    "version": 3
   },
   "file_extension": ".py",
   "mimetype": "text/x-python",
   "name": "python",
   "nbconvert_exporter": "python",
   "pygments_lexer": "ipython3",
   "version": "3.11.5"
  }
 },
 "nbformat": 4,
 "nbformat_minor": 5
}
