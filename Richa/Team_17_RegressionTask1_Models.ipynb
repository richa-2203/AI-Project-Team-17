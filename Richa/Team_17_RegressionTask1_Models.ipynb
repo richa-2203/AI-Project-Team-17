{
 "cells": [
  {
   "cell_type": "code",
   "execution_count": 186,
   "id": "ab598cf8",
   "metadata": {},
   "outputs": [],
   "source": [
    "import pandas as pd\n",
    "import numpy as np\n",
    "import matplotlib.pyplot as plt\n",
    "import seaborn as sns\n",
    "from sklearn.model_selection import train_test_split\n",
    "from sklearn.metrics import accuracy_score, f1_score, recall_score, precision_score, confusion_matrix\n",
    "from sklearn.naive_bayes import GaussianNB\n",
    "from sklearn.preprocessing import PolynomialFeatures\n",
    "from sklearn.linear_model import LinearRegression\n",
    "from sklearn.metrics import mean_squared_error, mean_absolute_error\n",
    "from math import sqrt\n",
    "from sklearn.ensemble import RandomForestClassifier\n",
    "from sklearn.ensemble import RandomForestRegressor\n",
    "from sklearn.linear_model import LinearRegression\n",
    "from sklearn.neighbors import KNeighborsRegressor\n",
    "from sklearn.metrics import mean_squared_error, mean_absolute_error,r2_score\n",
    "from math import sqrt\n",
    "from xgboost import XGBRegressor\n",
    "from sklearn.ensemble import GradientBoostingRegressor\n",
    "from sklearn.svm import SVR\n",
    "from sklearn.tree import DecisionTreeRegressor"
   ]
  },
  {
   "cell_type": "code",
   "execution_count": 187,
   "id": "0eb0f7a7",
   "metadata": {},
   "outputs": [],
   "source": [
    "df_rg1=pd.read_csv(\"training_preprocessed.csv\")"
   ]
  },
  {
   "cell_type": "code",
   "execution_count": 188,
   "id": "f0317e60",
   "metadata": {},
   "outputs": [],
   "source": [
    "df_rg1_train,df_rg1_val=train_test_split(df_rg1,test_size=0.2,random_state=42)"
   ]
  },
  {
   "cell_type": "code",
   "execution_count": 189,
   "id": "bea47188",
   "metadata": {},
   "outputs": [],
   "source": [
    "y_rg1_train = df_rg1_train[df_rg1_train['Loan_Status']==1]['LoanAmount']\n",
    "x_rg1_train = df_rg1_train[df_rg1_train['Loan_Status']==1].drop(columns=['LoanAmount','Loan_Status'])\n",
    "\n",
    "y_rg1_val = df_rg1_val[df_rg1_val['Loan_Status']==1]['LoanAmount']\n",
    "x_rg1_val = df_rg1_val[df_rg1_val['Loan_Status']==1].drop(columns=['LoanAmount','Loan_Status'])"
   ]
  },
  {
   "cell_type": "markdown",
   "id": "c4b5b497",
   "metadata": {},
   "source": [
    "**KNN Regression**"
   ]
  },
  {
   "cell_type": "code",
   "execution_count": 190,
   "id": "689271d4",
   "metadata": {},
   "outputs": [
    {
     "name": "stdout",
     "output_type": "stream",
     "text": [
      "RMSE: 33.068\n",
      "MAE: 25.649\n",
      "R2: 0.476\n",
      "RMSE (percentage): 25.85%\n"
     ]
    }
   ],
   "source": [
    "model = KNeighborsRegressor(n_neighbors=11)\n",
    "model.fit(x_rg1_train, y_rg1_train)\n",
    "y_val_rg1_predict = model.predict(x_rg1_val)\n",
    "rmse = sqrt(mean_squared_error(y_rg1_val, y_val_rg1_predict))\n",
    "mae = mean_absolute_error(y_rg1_val, y_val_rg1_predict)\n",
    "r2 = r2_score(y_rg1_val, y_val_rg1_predict)\n",
    "mean_value = y_rg1_val.mean()\n",
    "rmse_percentage = (rmse / mean_value) * 100\n",
    "\n",
    "print(f'RMSE: {rmse:.3f}')\n",
    "print(f'MAE: {mae:.3f}')\n",
    "print(f'R2: {r2:.3f}')\n",
    "print(f'RMSE (percentage): {rmse_percentage:.2f}%') "
   ]
  },
  {
   "cell_type": "markdown",
   "id": "fd41a973",
   "metadata": {},
   "source": [
    "**Linear Regression**"
   ]
  },
  {
   "cell_type": "code",
   "execution_count": 191,
   "id": "420fb1ef",
   "metadata": {},
   "outputs": [
    {
     "name": "stdout",
     "output_type": "stream",
     "text": [
      "RMSE: 3.815\n",
      "MAE: 2.146\n",
      "R2: 0.993\n",
      "RMSE (percentage): 2.98%\n"
     ]
    }
   ],
   "source": [
    "model = LinearRegression()\n",
    "model.fit(x_rg1_train, y_rg1_train)\n",
    "y_val_rg1_predict = model.predict(x_rg1_val)\n",
    "rmse = sqrt(mean_squared_error(y_rg1_val, y_val_rg1_predict))\n",
    "mae = mean_absolute_error(y_rg1_val, y_val_rg1_predict)\n",
    "r2 = r2_score(y_rg1_val, y_val_rg1_predict)\n",
    "mean_value = y_rg1_val.mean()\n",
    "rmse_percentage = (rmse / mean_value) * 100\n",
    "\n",
    "print(f'RMSE: {rmse:.3f}')\n",
    "print(f'MAE: {mae:.3f}')\n",
    "print(f'R2: {r2:.3f}')\n",
    "print(f'RMSE (percentage): {rmse_percentage:.2f}%') "
   ]
  },
  {
   "cell_type": "markdown",
   "id": "43489c83",
   "metadata": {},
   "source": [
    "**Random Forest**"
   ]
  },
  {
   "cell_type": "code",
   "execution_count": 192,
   "id": "13c88f1b",
   "metadata": {},
   "outputs": [
    {
     "name": "stdout",
     "output_type": "stream",
     "text": [
      "RMSE: 2.841\n",
      "MAE: 1.047\n",
      "R2: 0.996\n",
      "RMSE (percentage): 2.22%\n"
     ]
    }
   ],
   "source": [
    "model = RandomForestRegressor()\n",
    "model.fit(x_rg1_train, y_rg1_train)\n",
    "y_val_rg1_predict = model.predict(x_rg1_val)\n",
    "rmse = sqrt(mean_squared_error(y_rg1_val, y_val_rg1_predict))\n",
    "mae = mean_absolute_error(y_rg1_val, y_val_rg1_predict)\n",
    "r2 = r2_score(y_rg1_val, y_val_rg1_predict)\n",
    "mean_value = y_rg1_val.mean()\n",
    "rmse_percentage = (rmse / mean_value) * 100\n",
    "\n",
    "print(f'RMSE: {rmse:.3f}')\n",
    "print(f'MAE: {mae:.3f}')\n",
    "print(f'R2: {r2:.3f}')\n",
    "print(f'RMSE (percentage): {rmse_percentage:.2f}%') "
   ]
  },
  {
   "cell_type": "markdown",
   "id": "61166dac",
   "metadata": {},
   "source": [
    "**Decision Tree**"
   ]
  },
  {
   "cell_type": "code",
   "execution_count": 193,
   "id": "51ab3093",
   "metadata": {},
   "outputs": [
    {
     "name": "stdout",
     "output_type": "stream",
     "text": [
      "RMSE: 3.482\n",
      "MAE: 1.219\n",
      "R2: 0.994\n",
      "RMSE (percentage): 2.72%\n"
     ]
    }
   ],
   "source": [
    "model = DecisionTreeRegressor()\n",
    "model.fit(x_rg1_train, y_rg1_train)\n",
    "y_val_rg1_predict = model.predict(x_rg1_val)\n",
    "rmse = sqrt(mean_squared_error(y_rg1_val, y_val_rg1_predict))\n",
    "mae = mean_absolute_error(y_rg1_val, y_val_rg1_predict)\n",
    "r2 = r2_score(y_rg1_val, y_val_rg1_predict)\n",
    "mean_value = y_rg1_val.mean()\n",
    "rmse_percentage = (rmse / mean_value) * 100\n",
    "\n",
    "print(f'RMSE: {rmse:.3f}')\n",
    "print(f'MAE: {mae:.3f}')\n",
    "print(f'R2: {r2:.3f}')\n",
    "print(f'RMSE (percentage): {rmse_percentage:.2f}%') "
   ]
  },
  {
   "cell_type": "markdown",
   "id": "02c1cfc2",
   "metadata": {},
   "source": [
    "**SVR**"
   ]
  },
  {
   "cell_type": "code",
   "execution_count": 194,
   "id": "48d44abd",
   "metadata": {},
   "outputs": [
    {
     "name": "stdout",
     "output_type": "stream",
     "text": [
      "RMSE: 36.223\n",
      "MAE: 28.666\n",
      "R2: 0.371\n",
      "RMSE (percentage): 28.32%\n"
     ]
    }
   ],
   "source": [
    "model = SVR()\n",
    "model.fit(x_rg1_train, y_rg1_train)\n",
    "y_val_rg1_predict = model.predict(x_rg1_val)\n",
    "rmse = sqrt(mean_squared_error(y_rg1_val, y_val_rg1_predict))\n",
    "mae = mean_absolute_error(y_rg1_val, y_val_rg1_predict)\n",
    "r2 = r2_score(y_rg1_val, y_val_rg1_predict)\n",
    "mean_value = y_rg1_val.mean()\n",
    "rmse_percentage = (rmse / mean_value) * 100\n",
    "\n",
    "print(f'RMSE: {rmse:.3f}')\n",
    "print(f'MAE: {mae:.3f}')\n",
    "print(f'R2: {r2:.3f}')\n",
    "print(f'RMSE (percentage): {rmse_percentage:.2f}%') "
   ]
  }
 ],
 "metadata": {
  "kernelspec": {
   "display_name": "base",
   "language": "python",
   "name": "python3"
  },
  "language_info": {
   "codemirror_mode": {
    "name": "ipython",
    "version": 3
   },
   "file_extension": ".py",
   "mimetype": "text/x-python",
   "name": "python",
   "nbconvert_exporter": "python",
   "pygments_lexer": "ipython3",
   "version": "3.11.5"
  }
 },
 "nbformat": 4,
 "nbformat_minor": 5
}
