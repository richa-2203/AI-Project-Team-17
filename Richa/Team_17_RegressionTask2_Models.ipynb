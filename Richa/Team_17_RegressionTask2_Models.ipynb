{
 "cells": [
  {
   "cell_type": "code",
   "execution_count": 1,
   "id": "ab598cf8",
   "metadata": {},
   "outputs": [],
   "source": [
    "import pandas as pd\n",
    "import numpy as np\n",
    "import matplotlib.pyplot as plt\n",
    "import seaborn as sns\n",
    "from sklearn.model_selection import train_test_split\n",
    "from sklearn.metrics import accuracy_score, f1_score, recall_score, precision_score, confusion_matrix\n",
    "from sklearn.naive_bayes import GaussianNB\n",
    "from sklearn.preprocessing import PolynomialFeatures\n",
    "from sklearn.linear_model import LinearRegression\n",
    "from sklearn.metrics import mean_squared_error, mean_absolute_error\n",
    "from math import sqrt\n",
    "from sklearn.ensemble import RandomForestClassifier\n",
    "from sklearn.ensemble import RandomForestRegressor\n",
    "from sklearn.linear_model import LinearRegression\n",
    "from sklearn.neighbors import KNeighborsRegressor\n",
    "from sklearn.metrics import mean_squared_error, mean_absolute_error,r2_score\n",
    "from math import sqrt\n",
    "from xgboost import XGBRegressor\n",
    "from sklearn.ensemble import GradientBoostingRegressor\n",
    "from sklearn.svm import SVR\n",
    "from sklearn.tree import DecisionTreeRegressor"
   ]
  },
  {
   "cell_type": "code",
   "execution_count": 2,
   "id": "0eb0f7a7",
   "metadata": {},
   "outputs": [],
   "source": [
    "df_rg2=pd.read_csv(\"training_preprocessed.csv\")"
   ]
  },
  {
   "cell_type": "code",
   "execution_count": 3,
   "id": "f0317e60",
   "metadata": {},
   "outputs": [],
   "source": [
    "df_rg2_train,df_rg2_val=train_test_split(df_rg2,test_size=0.2,random_state=42)"
   ]
  },
  {
   "cell_type": "code",
   "execution_count": 4,
   "id": "bea47188",
   "metadata": {},
   "outputs": [],
   "source": [
    "y_rg2_train = df_rg2_train[(df_rg2_train['Loan_Status']==1)]['Loan_Amount_Term']\n",
    "x_rg2_train = df_rg2_train[(df_rg2_train['Loan_Status']==1)].drop(columns=['Loan_Amount_Term','Loan_Status'])\n",
    "\n",
    "y_rg2_val = df_rg2_val[(df_rg2_val['Loan_Status'] == 1) & (df_rg2_val['Loan_Amount_Term'] > 240)]['Loan_Amount_Term']\n",
    "x_rg2_val = df_rg2_val[(df_rg2_val['Loan_Status'] == 1) & (df_rg2_val['Loan_Amount_Term'] > 240)].drop(columns=['Loan_Amount_Term', 'Loan_Status'])"
   ]
  },
  {
   "cell_type": "markdown",
   "id": "fd41a973",
   "metadata": {},
   "source": [
    "**Linear Regression**"
   ]
  },
  {
   "cell_type": "code",
   "execution_count": 5,
   "id": "420fb1ef",
   "metadata": {},
   "outputs": [
    {
     "name": "stdout",
     "output_type": "stream",
     "text": [
      "RMSE: 8.514\n",
      "MAE: 4.695\n",
      "R2: 0.798\n",
      "RMSE (percentage): 2.41%\n"
     ]
    }
   ],
   "source": [
    "model = LinearRegression()\n",
    "model.fit(x_rg2_train, y_rg2_train)\n",
    "y_val_rg2_predict = model.predict(x_rg2_val)\n",
    "rmse = sqrt(mean_squared_error(y_rg2_val, y_val_rg2_predict))\n",
    "mae = mean_absolute_error(y_rg2_val, y_val_rg2_predict)\n",
    "r2 = r2_score(y_rg2_val, y_val_rg2_predict)\n",
    "mean_value = y_rg2_val.mean()\n",
    "rmse_percentage = (rmse / mean_value) * 100\n",
    "\n",
    "print(f'RMSE: {rmse:.3f}')\n",
    "print(f'MAE: {mae:.3f}')\n",
    "print(f'R2: {r2:.3f}')\n",
    "print(f'RMSE (percentage): {rmse_percentage:.2f}%') "
   ]
  },
  {
   "cell_type": "markdown",
   "id": "43489c83",
   "metadata": {},
   "source": [
    "**Random Forest**"
   ]
  },
  {
   "cell_type": "code",
   "execution_count": 18,
   "id": "13c88f1b",
   "metadata": {},
   "outputs": [
    {
     "name": "stdout",
     "output_type": "stream",
     "text": [
      "RMSE: 12.869\n",
      "MAE: 6.428\n",
      "R2: 0.539\n",
      "RMSE (percentage): 3.64%\n"
     ]
    }
   ],
   "source": [
    "model = RandomForestRegressor()\n",
    "model.fit(x_rg2_train, y_rg2_train)\n",
    "y_val_rg2_predict = model.predict(x_rg2_val)\n",
    "rmse = sqrt(mean_squared_error(y_rg2_val, y_val_rg2_predict))\n",
    "mae = mean_absolute_error(y_rg2_val, y_val_rg2_predict)\n",
    "r2 = r2_score(y_rg2_val, y_val_rg2_predict)\n",
    "mean_value = y_rg2_val.mean()\n",
    "rmse_percentage = (rmse / mean_value) * 100\n",
    "\n",
    "print(f'RMSE: {rmse:.3f}')\n",
    "print(f'MAE: {mae:.3f}')\n",
    "print(f'R2: {r2:.3f}')\n",
    "print(f'RMSE (percentage): {rmse_percentage:.2f}%') "
   ]
  },
  {
   "cell_type": "markdown",
   "id": "61166dac",
   "metadata": {},
   "source": [
    "**Decision Tree**"
   ]
  },
  {
   "cell_type": "code",
   "execution_count": 31,
   "id": "51ab3093",
   "metadata": {},
   "outputs": [
    {
     "name": "stdout",
     "output_type": "stream",
     "text": [
      "RMSE: 13.416\n",
      "MAE: 3.000\n",
      "R2: 0.499\n",
      "RMSE (percentage): 3.80%\n"
     ]
    }
   ],
   "source": [
    "model = DecisionTreeRegressor()\n",
    "model.fit(x_rg2_train, y_rg2_train)\n",
    "y_val_rg2_predict = model.predict(x_rg2_val)\n",
    "rmse = sqrt(mean_squared_error(y_rg2_val, y_val_rg2_predict))\n",
    "mae = mean_absolute_error(y_rg2_val, y_val_rg2_predict)\n",
    "r2 = r2_score(y_rg2_val, y_val_rg2_predict)\n",
    "mean_value = y_rg2_val.mean()\n",
    "rmse_percentage = (rmse / mean_value) * 100\n",
    "\n",
    "print(f'RMSE: {rmse:.3f}')\n",
    "print(f'MAE: {mae:.3f}')\n",
    "print(f'R2: {r2:.3f}')\n",
    "print(f'RMSE (percentage): {rmse_percentage:.2f}%') "
   ]
  },
  {
   "cell_type": "markdown",
   "id": "f6074209",
   "metadata": {},
   "source": [
    "**XGBoost**"
   ]
  },
  {
   "cell_type": "code",
   "execution_count": 33,
   "id": "d6a41ea6",
   "metadata": {},
   "outputs": [
    {
     "name": "stdout",
     "output_type": "stream",
     "text": [
      "RMSE: 10.555\n",
      "MAE: 3.926\n",
      "R2: 0.690\n",
      "RMSE (percentage): 2.99%\n"
     ]
    }
   ],
   "source": [
    "model = XGBRegressor()\n",
    "model.fit(x_rg2_train, y_rg2_train)\n",
    "y_val_rg2_predict = model.predict(x_rg2_val)\n",
    "rmse = sqrt(mean_squared_error(y_rg2_val, y_val_rg2_predict))\n",
    "mae = mean_absolute_error(y_rg2_val, y_val_rg2_predict)\n",
    "r2 = r2_score(y_rg2_val, y_val_rg2_predict)\n",
    "mean_value = y_rg2_val.mean()\n",
    "rmse_percentage = (rmse / mean_value) * 100\n",
    "\n",
    "print(f'RMSE: {rmse:.3f}')\n",
    "print(f'MAE: {mae:.3f}')\n",
    "print(f'R2: {r2:.3f}')\n",
    "print(f'RMSE (percentage): {rmse_percentage:.2f}%') "
   ]
  },
  {
   "cell_type": "markdown",
   "id": "d56f7c75",
   "metadata": {},
   "source": [
    "**KNN Regression**"
   ]
  },
  {
   "cell_type": "code",
   "execution_count": 44,
   "id": "63cdb33a",
   "metadata": {},
   "outputs": [
    {
     "name": "stdout",
     "output_type": "stream",
     "text": [
      "RMSE: 18.940\n",
      "MAE: 11.576\n",
      "R2: 0.002\n",
      "RMSE (percentage): 5.36%\n"
     ]
    }
   ],
   "source": [
    "model = KNeighborsRegressor(n_neighbors=23)\n",
    "model.fit(x_rg2_train, y_rg2_train)\n",
    "y_val_rg2_predict = model.predict(x_rg2_val)\n",
    "rmse = sqrt(mean_squared_error(y_rg2_val, y_val_rg2_predict))\n",
    "mae = mean_absolute_error(y_rg2_val, y_val_rg2_predict)\n",
    "r2 = r2_score(y_rg2_val, y_val_rg2_predict)\n",
    "mean_value = y_rg2_val.mean()\n",
    "rmse_percentage = (rmse / mean_value) * 100\n",
    "\n",
    "print(f'RMSE: {rmse:.3f}')\n",
    "print(f'MAE: {mae:.3f}')\n",
    "print(f'R2: {r2:.3f}')\n",
    "print(f'RMSE (percentage): {rmse_percentage:.2f}%') "
   ]
  }
 ],
 "metadata": {
  "kernelspec": {
   "display_name": "base",
   "language": "python",
   "name": "python3"
  },
  "language_info": {
   "codemirror_mode": {
    "name": "ipython",
    "version": 3
   },
   "file_extension": ".py",
   "mimetype": "text/x-python",
   "name": "python",
   "nbconvert_exporter": "python",
   "pygments_lexer": "ipython3",
   "version": "3.11.5"
  }
 },
 "nbformat": 4,
 "nbformat_minor": 5
}
